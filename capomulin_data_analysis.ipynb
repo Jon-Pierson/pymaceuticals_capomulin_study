{
 "cells": [
  {
   "cell_type": "code",
   "execution_count": 69,
   "metadata": {},
   "outputs": [],
   "source": [
    "# Add Dependencies and Setup\n",
    "import pandas as pd\n",
    "import matplotlib.pyplot as plt\n",
    "import numpy as np\n",
    "import scipy.stats as st"
   ]
  },
  {
   "cell_type": "code",
   "execution_count": 70,
   "metadata": {},
   "outputs": [],
   "source": [
    "# Create path to data files\n",
    "mouse_metadata_path = \"raw_data/mouse_metadata.csv\"\n",
    "study_results_path = \"raw_data/study_results.csv\"\n",
    "\n",
    "# Read the mouse data and the study results\n",
    "mouse_metadata = pd.read_csv(mouse_metadata_path)\n",
    "study_results = pd.read_csv(study_results_path)"
   ]
  },
  {
   "cell_type": "code",
   "execution_count": 71,
   "metadata": {},
   "outputs": [
    {
     "data": {
      "text/html": [
       "<div>\n",
       "<style scoped>\n",
       "    .dataframe tbody tr th:only-of-type {\n",
       "        vertical-align: middle;\n",
       "    }\n",
       "\n",
       "    .dataframe tbody tr th {\n",
       "        vertical-align: top;\n",
       "    }\n",
       "\n",
       "    .dataframe thead th {\n",
       "        text-align: right;\n",
       "    }\n",
       "</style>\n",
       "<table border=\"1\" class=\"dataframe\">\n",
       "  <thead>\n",
       "    <tr style=\"text-align: right;\">\n",
       "      <th></th>\n",
       "      <th>Mouse ID</th>\n",
       "      <th>Drug Regimen</th>\n",
       "      <th>Sex</th>\n",
       "      <th>Age_months</th>\n",
       "      <th>Weight (g)</th>\n",
       "    </tr>\n",
       "  </thead>\n",
       "  <tbody>\n",
       "    <tr>\n",
       "      <th>0</th>\n",
       "      <td>k403</td>\n",
       "      <td>Ramicane</td>\n",
       "      <td>Male</td>\n",
       "      <td>21</td>\n",
       "      <td>16</td>\n",
       "    </tr>\n",
       "    <tr>\n",
       "      <th>1</th>\n",
       "      <td>s185</td>\n",
       "      <td>Capomulin</td>\n",
       "      <td>Female</td>\n",
       "      <td>3</td>\n",
       "      <td>17</td>\n",
       "    </tr>\n",
       "    <tr>\n",
       "      <th>2</th>\n",
       "      <td>x401</td>\n",
       "      <td>Capomulin</td>\n",
       "      <td>Female</td>\n",
       "      <td>16</td>\n",
       "      <td>15</td>\n",
       "    </tr>\n",
       "    <tr>\n",
       "      <th>3</th>\n",
       "      <td>m601</td>\n",
       "      <td>Capomulin</td>\n",
       "      <td>Male</td>\n",
       "      <td>22</td>\n",
       "      <td>17</td>\n",
       "    </tr>\n",
       "    <tr>\n",
       "      <th>4</th>\n",
       "      <td>g791</td>\n",
       "      <td>Ramicane</td>\n",
       "      <td>Male</td>\n",
       "      <td>11</td>\n",
       "      <td>16</td>\n",
       "    </tr>\n",
       "  </tbody>\n",
       "</table>\n",
       "</div>"
      ],
      "text/plain": [
       "  Mouse ID Drug Regimen     Sex  Age_months  Weight (g)\n",
       "0     k403     Ramicane    Male          21          16\n",
       "1     s185    Capomulin  Female           3          17\n",
       "2     x401    Capomulin  Female          16          15\n",
       "3     m601    Capomulin    Male          22          17\n",
       "4     g791     Ramicane    Male          11          16"
      ]
     },
     "execution_count": 71,
     "metadata": {},
     "output_type": "execute_result"
    }
   ],
   "source": [
    "# Preview mouse_metadata\n",
    "mouse_metadata.head()"
   ]
  },
  {
   "cell_type": "code",
   "execution_count": 72,
   "metadata": {},
   "outputs": [
    {
     "data": {
      "text/html": [
       "<div>\n",
       "<style scoped>\n",
       "    .dataframe tbody tr th:only-of-type {\n",
       "        vertical-align: middle;\n",
       "    }\n",
       "\n",
       "    .dataframe tbody tr th {\n",
       "        vertical-align: top;\n",
       "    }\n",
       "\n",
       "    .dataframe thead th {\n",
       "        text-align: right;\n",
       "    }\n",
       "</style>\n",
       "<table border=\"1\" class=\"dataframe\">\n",
       "  <thead>\n",
       "    <tr style=\"text-align: right;\">\n",
       "      <th></th>\n",
       "      <th>Mouse ID</th>\n",
       "      <th>Timepoint</th>\n",
       "      <th>Tumor Volume (mm3)</th>\n",
       "      <th>Metastatic Sites</th>\n",
       "    </tr>\n",
       "  </thead>\n",
       "  <tbody>\n",
       "    <tr>\n",
       "      <th>0</th>\n",
       "      <td>b128</td>\n",
       "      <td>0</td>\n",
       "      <td>45.0</td>\n",
       "      <td>0</td>\n",
       "    </tr>\n",
       "    <tr>\n",
       "      <th>1</th>\n",
       "      <td>f932</td>\n",
       "      <td>0</td>\n",
       "      <td>45.0</td>\n",
       "      <td>0</td>\n",
       "    </tr>\n",
       "    <tr>\n",
       "      <th>2</th>\n",
       "      <td>g107</td>\n",
       "      <td>0</td>\n",
       "      <td>45.0</td>\n",
       "      <td>0</td>\n",
       "    </tr>\n",
       "    <tr>\n",
       "      <th>3</th>\n",
       "      <td>a457</td>\n",
       "      <td>0</td>\n",
       "      <td>45.0</td>\n",
       "      <td>0</td>\n",
       "    </tr>\n",
       "    <tr>\n",
       "      <th>4</th>\n",
       "      <td>c819</td>\n",
       "      <td>0</td>\n",
       "      <td>45.0</td>\n",
       "      <td>0</td>\n",
       "    </tr>\n",
       "  </tbody>\n",
       "</table>\n",
       "</div>"
      ],
      "text/plain": [
       "  Mouse ID  Timepoint  Tumor Volume (mm3)  Metastatic Sites\n",
       "0     b128          0                45.0                 0\n",
       "1     f932          0                45.0                 0\n",
       "2     g107          0                45.0                 0\n",
       "3     a457          0                45.0                 0\n",
       "4     c819          0                45.0                 0"
      ]
     },
     "execution_count": 72,
     "metadata": {},
     "output_type": "execute_result"
    }
   ],
   "source": [
    "# Preview study_results\n",
    "study_results.head()"
   ]
  },
  {
   "cell_type": "code",
   "execution_count": 73,
   "metadata": {},
   "outputs": [
    {
     "data": {
      "text/html": [
       "<div>\n",
       "<style scoped>\n",
       "    .dataframe tbody tr th:only-of-type {\n",
       "        vertical-align: middle;\n",
       "    }\n",
       "\n",
       "    .dataframe tbody tr th {\n",
       "        vertical-align: top;\n",
       "    }\n",
       "\n",
       "    .dataframe thead th {\n",
       "        text-align: right;\n",
       "    }\n",
       "</style>\n",
       "<table border=\"1\" class=\"dataframe\">\n",
       "  <thead>\n",
       "    <tr style=\"text-align: right;\">\n",
       "      <th></th>\n",
       "      <th>Mouse ID</th>\n",
       "      <th>Drug Regimen</th>\n",
       "      <th>Sex</th>\n",
       "      <th>Age_months</th>\n",
       "      <th>Weight (g)</th>\n",
       "      <th>Timepoint</th>\n",
       "      <th>Tumor Volume (mm3)</th>\n",
       "      <th>Metastatic Sites</th>\n",
       "    </tr>\n",
       "  </thead>\n",
       "  <tbody>\n",
       "    <tr>\n",
       "      <th>0</th>\n",
       "      <td>k403</td>\n",
       "      <td>Ramicane</td>\n",
       "      <td>Male</td>\n",
       "      <td>21</td>\n",
       "      <td>16</td>\n",
       "      <td>0</td>\n",
       "      <td>45.000000</td>\n",
       "      <td>0</td>\n",
       "    </tr>\n",
       "    <tr>\n",
       "      <th>1</th>\n",
       "      <td>k403</td>\n",
       "      <td>Ramicane</td>\n",
       "      <td>Male</td>\n",
       "      <td>21</td>\n",
       "      <td>16</td>\n",
       "      <td>5</td>\n",
       "      <td>38.825898</td>\n",
       "      <td>0</td>\n",
       "    </tr>\n",
       "    <tr>\n",
       "      <th>2</th>\n",
       "      <td>k403</td>\n",
       "      <td>Ramicane</td>\n",
       "      <td>Male</td>\n",
       "      <td>21</td>\n",
       "      <td>16</td>\n",
       "      <td>10</td>\n",
       "      <td>35.014271</td>\n",
       "      <td>1</td>\n",
       "    </tr>\n",
       "    <tr>\n",
       "      <th>3</th>\n",
       "      <td>k403</td>\n",
       "      <td>Ramicane</td>\n",
       "      <td>Male</td>\n",
       "      <td>21</td>\n",
       "      <td>16</td>\n",
       "      <td>15</td>\n",
       "      <td>34.223992</td>\n",
       "      <td>1</td>\n",
       "    </tr>\n",
       "    <tr>\n",
       "      <th>4</th>\n",
       "      <td>k403</td>\n",
       "      <td>Ramicane</td>\n",
       "      <td>Male</td>\n",
       "      <td>21</td>\n",
       "      <td>16</td>\n",
       "      <td>20</td>\n",
       "      <td>32.997729</td>\n",
       "      <td>1</td>\n",
       "    </tr>\n",
       "  </tbody>\n",
       "</table>\n",
       "</div>"
      ],
      "text/plain": [
       "  Mouse ID Drug Regimen   Sex  Age_months  Weight (g)  Timepoint  \\\n",
       "0     k403     Ramicane  Male          21          16          0   \n",
       "1     k403     Ramicane  Male          21          16          5   \n",
       "2     k403     Ramicane  Male          21          16         10   \n",
       "3     k403     Ramicane  Male          21          16         15   \n",
       "4     k403     Ramicane  Male          21          16         20   \n",
       "\n",
       "   Tumor Volume (mm3)  Metastatic Sites  \n",
       "0           45.000000                 0  \n",
       "1           38.825898                 0  \n",
       "2           35.014271                 1  \n",
       "3           34.223992                 1  \n",
       "4           32.997729                 1  "
      ]
     },
     "execution_count": 73,
     "metadata": {},
     "output_type": "execute_result"
    }
   ],
   "source": [
    "# Combine the data into a single dataset\n",
    "capomulin_study_data = pd.merge(mouse_metadata, study_results, on=\"Mouse ID\")\n",
    "capomulin_study_data.head()"
   ]
  },
  {
   "cell_type": "code",
   "execution_count": 74,
   "metadata": {},
   "outputs": [
    {
     "name": "stdout",
     "output_type": "stream",
     "text": [
      "Duplicate Timepoints found in capomulin_study_data\n",
      "    Mouse ID Drug Regimen     Sex  Age_months  Weight (g)  Timepoint  \\\n",
      "908     g989     Propriva  Female          21          26          0   \n",
      "909     g989     Propriva  Female          21          26          0   \n",
      "910     g989     Propriva  Female          21          26          5   \n",
      "911     g989     Propriva  Female          21          26          5   \n",
      "912     g989     Propriva  Female          21          26         10   \n",
      "913     g989     Propriva  Female          21          26         10   \n",
      "914     g989     Propriva  Female          21          26         15   \n",
      "915     g989     Propriva  Female          21          26         15   \n",
      "916     g989     Propriva  Female          21          26         20   \n",
      "917     g989     Propriva  Female          21          26         20   \n",
      "\n",
      "     Tumor Volume (mm3)  Metastatic Sites  \n",
      "908           45.000000                 0  \n",
      "909           45.000000                 0  \n",
      "910           48.786801                 0  \n",
      "911           47.570392                 0  \n",
      "912           51.745156                 0  \n",
      "913           49.880528                 0  \n",
      "914           51.325852                 1  \n",
      "915           53.442020                 0  \n",
      "916           55.326122                 1  \n",
      "917           54.657650                 1  \n"
     ]
    }
   ],
   "source": [
    "# Ensure capomulin_study_data is a clean dataset by checking for duplicate Timepoint values for each Mouse ID\n",
    "duplicate_timepoints = capomulin_study_data[capomulin_study_data.duplicated(subset=[\"Mouse ID\", \"Timepoint\"], keep=False)]\n",
    "\n",
    "if not duplicate_timepoints.empty:\n",
    "    print(\"Duplicate Timepoints found in capomulin_study_data\")\n",
    "    print(duplicate_timepoints)\n",
    "else:\n",
    "    print(\"No duplicate Timepoints found in capomulin_study_data\")"
   ]
  },
  {
   "cell_type": "code",
   "execution_count": 75,
   "metadata": {},
   "outputs": [
    {
     "name": "stdout",
     "output_type": "stream",
     "text": [
      "  Mouse ID  Timepoint  Tumor Volume (mm3)  Metastatic Sites\n",
      "0     g989          0           45.000000               0.0\n",
      "1     g989          5           48.178597               0.0\n",
      "2     g989         10           50.812842               0.0\n",
      "3     g989         15           52.383936               0.5\n",
      "4     g989         20           54.991886               1.0\n"
     ]
    }
   ],
   "source": [
    "# Group duplicate_timepoints by Mouse ID and Timepoint taking the mean of the duplicate Tumor Volume (mm3) and Metastatic Sites values\n",
    "group_duplicate_timepoints = duplicate_timepoints.groupby([\"Mouse ID\", \"Timepoint\"]).agg({\"Tumor Volume (mm3)\": \"mean\", \"Metastatic Sites\": \"mean\"}).reset_index()\n",
    "print(group_duplicate_timepoints)"
   ]
  },
  {
   "cell_type": "code",
   "execution_count": 76,
   "metadata": {},
   "outputs": [
    {
     "name": "stdout",
     "output_type": "stream",
     "text": [
      "  Mouse ID  Timepoint  Tumor Volume (mm3)  Metastatic Sites\n",
      "0     g989          0          -45.000000              -0.0\n",
      "1     g989          5          -48.178597              -0.0\n",
      "2     g989         10          -50.812842              -0.0\n",
      "3     g989         15          -52.383936              -0.5\n",
      "4     g989         20          -54.991886              -1.0\n"
     ]
    }
   ],
   "source": [
    "# Mupltiply the Tumor Volume (mm3) and Metastatic Sites values by -1 in group_duplicate_timepoints\n",
    "group_duplicate_timepoints[\"Tumor Volume (mm3)\"] = group_duplicate_timepoints[\"Tumor Volume (mm3)\"] * -1\n",
    "group_duplicate_timepoints[\"Metastatic Sites\"] = group_duplicate_timepoints[\"Metastatic Sites\"] * -1\n",
    "print(group_duplicate_timepoints)"
   ]
  },
  {
   "cell_type": "code",
   "execution_count": 77,
   "metadata": {},
   "outputs": [
    {
     "name": "stdout",
     "output_type": "stream",
     "text": [
      "    Mouse ID  Timepoint  Tumor Volume (mm3)  Metastatic Sites\n",
      "908     g989          0           45.000000                 0\n",
      "910     g989          5           48.786801                 0\n",
      "912     g989         10           51.745156                 0\n",
      "914     g989         15           51.325852                 1\n",
      "916     g989         20           55.326122                 1\n"
     ]
    }
   ],
   "source": [
    "# Compare the group_duplicate_timepoints data with the fist instance of each Mouse ID and Timepoint in duplicate_timepoints\n",
    "first_instance = duplicate_timepoints.drop_duplicates(subset=[\"Mouse ID\", \"Timepoint\"], keep=\"first\").drop(columns=[\"Drug Regimen\", \"Sex\", \"Age_months\", \"Weight (g)\"])\n",
    "print(first_instance)\n"
   ]
  },
  {
   "cell_type": "code",
   "execution_count": 78,
   "metadata": {},
   "outputs": [
    {
     "name": "stdout",
     "output_type": "stream",
     "text": [
      "  Mouse ID  Timepoint  Tumor Volume (mm3)  Metastatic Sites\n",
      "0     g989          0            0.000000               0.0\n",
      "1     g989          5            0.608205               0.0\n",
      "2     g989         10            0.932314               0.0\n",
      "3     g989         15           -1.058084               0.5\n",
      "4     g989         20            0.334236               0.0\n"
     ]
    }
   ],
   "source": [
    "# Merge the first_instance data with the group_duplicate_timepoints data using the Mouse ID and Timepoint columns and sum the Tumor Volume (mm3) and Metastatic Sites values\n",
    "duplicate_test = pd.merge(first_instance, group_duplicate_timepoints, on=[\"Mouse ID\", \"Timepoint\"], suffixes=(\"_first\", \"_mean\"))\n",
    "duplicate_test[\"Tumor Volume (mm3)\"] = duplicate_test[\"Tumor Volume (mm3)_first\"] + duplicate_test[\"Tumor Volume (mm3)_mean\"]\n",
    "duplicate_test[\"Metastatic Sites\"] = duplicate_test[\"Metastatic Sites_first\"] + duplicate_test[\"Metastatic Sites_mean\"]\n",
    "duplicate_test = duplicate_test.drop(columns=[\"Tumor Volume (mm3)_first\", \"Metastatic Sites_first\", \"Tumor Volume (mm3)_mean\", \"Metastatic Sites_mean\"])\n",
    "print(duplicate_test)\n"
   ]
  },
  {
   "cell_type": "code",
   "execution_count": 79,
   "metadata": {},
   "outputs": [
    {
     "name": "stdout",
     "output_type": "stream",
     "text": [
      "  Mouse ID  Timepoint  Tumor Volume (mm3)  Metastatic Sites\n",
      "1     g989          5            0.608205               0.0\n",
      "2     g989         10            0.932314               0.0\n",
      "3     g989         15           -1.058084               0.5\n",
      "4     g989         20            0.334236               0.0\n"
     ]
    }
   ],
   "source": [
    "# Display any Mouse ID in which the Tumor Volume (mm3) or Metastatic Sites values are not equal to 0\n",
    "duplicate_test = duplicate_test[(duplicate_test[\"Tumor Volume (mm3)\"] != 0) | (duplicate_test[\"Metastatic Sites\"] != 0)]\n",
    "print(duplicate_test)\n"
   ]
  },
  {
   "cell_type": "code",
   "execution_count": 80,
   "metadata": {},
   "outputs": [
    {
     "name": "stdout",
     "output_type": "stream",
     "text": [
      "['g989']\n"
     ]
    }
   ],
   "source": [
    "# List unique Mouse ID values in duplicate_test\n",
    "duplicate_mice = duplicate_test[\"Mouse ID\"].unique()\n",
    "print(duplicate_mice)"
   ]
  },
  {
   "cell_type": "code",
   "execution_count": 81,
   "metadata": {},
   "outputs": [
    {
     "data": {
      "text/html": [
       "<div>\n",
       "<style scoped>\n",
       "    .dataframe tbody tr th:only-of-type {\n",
       "        vertical-align: middle;\n",
       "    }\n",
       "\n",
       "    .dataframe tbody tr th {\n",
       "        vertical-align: top;\n",
       "    }\n",
       "\n",
       "    .dataframe thead th {\n",
       "        text-align: right;\n",
       "    }\n",
       "</style>\n",
       "<table border=\"1\" class=\"dataframe\">\n",
       "  <thead>\n",
       "    <tr style=\"text-align: right;\">\n",
       "      <th></th>\n",
       "      <th>Mouse ID</th>\n",
       "      <th>Drug Regimen</th>\n",
       "      <th>Sex</th>\n",
       "      <th>Age_months</th>\n",
       "      <th>Weight (g)</th>\n",
       "      <th>Timepoint</th>\n",
       "      <th>Tumor Volume (mm3)</th>\n",
       "      <th>Metastatic Sites</th>\n",
       "    </tr>\n",
       "  </thead>\n",
       "  <tbody>\n",
       "    <tr>\n",
       "      <th>0</th>\n",
       "      <td>k403</td>\n",
       "      <td>Ramicane</td>\n",
       "      <td>Male</td>\n",
       "      <td>21</td>\n",
       "      <td>16</td>\n",
       "      <td>0</td>\n",
       "      <td>45.000000</td>\n",
       "      <td>0</td>\n",
       "    </tr>\n",
       "    <tr>\n",
       "      <th>1</th>\n",
       "      <td>k403</td>\n",
       "      <td>Ramicane</td>\n",
       "      <td>Male</td>\n",
       "      <td>21</td>\n",
       "      <td>16</td>\n",
       "      <td>5</td>\n",
       "      <td>38.825898</td>\n",
       "      <td>0</td>\n",
       "    </tr>\n",
       "    <tr>\n",
       "      <th>2</th>\n",
       "      <td>k403</td>\n",
       "      <td>Ramicane</td>\n",
       "      <td>Male</td>\n",
       "      <td>21</td>\n",
       "      <td>16</td>\n",
       "      <td>10</td>\n",
       "      <td>35.014271</td>\n",
       "      <td>1</td>\n",
       "    </tr>\n",
       "    <tr>\n",
       "      <th>3</th>\n",
       "      <td>k403</td>\n",
       "      <td>Ramicane</td>\n",
       "      <td>Male</td>\n",
       "      <td>21</td>\n",
       "      <td>16</td>\n",
       "      <td>15</td>\n",
       "      <td>34.223992</td>\n",
       "      <td>1</td>\n",
       "    </tr>\n",
       "    <tr>\n",
       "      <th>4</th>\n",
       "      <td>k403</td>\n",
       "      <td>Ramicane</td>\n",
       "      <td>Male</td>\n",
       "      <td>21</td>\n",
       "      <td>16</td>\n",
       "      <td>20</td>\n",
       "      <td>32.997729</td>\n",
       "      <td>1</td>\n",
       "    </tr>\n",
       "  </tbody>\n",
       "</table>\n",
       "</div>"
      ],
      "text/plain": [
       "  Mouse ID Drug Regimen   Sex  Age_months  Weight (g)  Timepoint  \\\n",
       "0     k403     Ramicane  Male          21          16          0   \n",
       "1     k403     Ramicane  Male          21          16          5   \n",
       "2     k403     Ramicane  Male          21          16         10   \n",
       "3     k403     Ramicane  Male          21          16         15   \n",
       "4     k403     Ramicane  Male          21          16         20   \n",
       "\n",
       "   Tumor Volume (mm3)  Metastatic Sites  \n",
       "0           45.000000                 0  \n",
       "1           38.825898                 0  \n",
       "2           35.014271                 1  \n",
       "3           34.223992                 1  \n",
       "4           32.997729                 1  "
      ]
     },
     "execution_count": 81,
     "metadata": {},
     "output_type": "execute_result"
    }
   ],
   "source": [
    "# Drop the Mouse ID values in duplicate_mice from capomulin_study_data and reset the index\n",
    "capomulin_study_data_clean = capomulin_study_data[~capomulin_study_data[\"Mouse ID\"].isin(duplicate_mice)].reset_index(drop=True)\n",
    "capomulin_study_data_clean.head()"
   ]
  },
  {
   "cell_type": "code",
   "execution_count": 82,
   "metadata": {},
   "outputs": [],
   "source": [
    "# If there were duplicate enetries that were double entries (All data was equal for every double entry) in the capomulin_study_data dataset. This is where I would drop the duplicates and keep the first entry."
   ]
  },
  {
   "cell_type": "code",
   "execution_count": 83,
   "metadata": {},
   "outputs": [
    {
     "name": "stdout",
     "output_type": "stream",
     "text": [
      "No duplicate Timepoints found in capomulin_study_data_clean\n"
     ]
    }
   ],
   "source": [
    "# Ensure capomulin_study_data_clean is a clean dataset by checking for duplicate Timepoint values for each Mouse ID again\n",
    "duplicate_timepoints_2 = capomulin_study_data_clean[capomulin_study_data_clean.duplicated(subset=[\"Mouse ID\", \"Timepoint\"], keep=False)]\n",
    "\n",
    "if not duplicate_timepoints_2.empty:\n",
    "    print(\"Duplicate Timepoints found in capomulin_study_data_clean\")\n",
    "    print(duplicate_timepoints_2)\n",
    "else:\n",
    "    print(\"No duplicate Timepoints found in capomulin_study_data_clean\")"
   ]
  },
  {
   "cell_type": "code",
   "execution_count": 84,
   "metadata": {},
   "outputs": [
    {
     "name": "stdout",
     "output_type": "stream",
     "text": [
      "Cleaned data saved to cleaned_data\\capomulin_study_data_clean.csv\n"
     ]
    }
   ],
   "source": [
    "# Save the cleaned dataset to a new CSV file\n",
    "import os\n",
    "cleaned_data_path = os.path.join(\"cleaned_data\", \"capomulin_study_data_clean.csv\")\n",
    "capomulin_study_data_clean.to_csv(cleaned_data_path, index=False)\n",
    "print(f\"Cleaned data saved to {cleaned_data_path}\")\n"
   ]
  },
  {
   "cell_type": "code",
   "execution_count": 85,
   "metadata": {},
   "outputs": [],
   "source": [
    "# Delete tumor_volume_change DataFrame and set it to None\n",
    "tumor_volume_change = None"
   ]
  },
  {
   "cell_type": "code",
   "execution_count": 86,
   "metadata": {},
   "outputs": [
    {
     "data": {
      "text/html": [
       "<div>\n",
       "<style scoped>\n",
       "    .dataframe tbody tr th:only-of-type {\n",
       "        vertical-align: middle;\n",
       "    }\n",
       "\n",
       "    .dataframe tbody tr th {\n",
       "        vertical-align: top;\n",
       "    }\n",
       "\n",
       "    .dataframe thead th {\n",
       "        text-align: right;\n",
       "    }\n",
       "</style>\n",
       "<table border=\"1\" class=\"dataframe\">\n",
       "  <thead>\n",
       "    <tr style=\"text-align: right;\">\n",
       "      <th></th>\n",
       "      <th>Mouse ID</th>\n",
       "      <th>Drug Regimen</th>\n",
       "      <th>Sex</th>\n",
       "      <th>Age_months</th>\n",
       "      <th>Weight (g)</th>\n",
       "      <th>Timepoint</th>\n",
       "      <th>Tumor Volume (mm3)</th>\n",
       "      <th>Metastatic Sites</th>\n",
       "      <th>Tumor Volume (mm3) Change</th>\n",
       "    </tr>\n",
       "  </thead>\n",
       "  <tbody>\n",
       "    <tr>\n",
       "      <th>0</th>\n",
       "      <td>k403</td>\n",
       "      <td>Ramicane</td>\n",
       "      <td>Male</td>\n",
       "      <td>21</td>\n",
       "      <td>16</td>\n",
       "      <td>0</td>\n",
       "      <td>45.000000</td>\n",
       "      <td>0</td>\n",
       "      <td>0.0</td>\n",
       "    </tr>\n",
       "    <tr>\n",
       "      <th>1</th>\n",
       "      <td>k403</td>\n",
       "      <td>Ramicane</td>\n",
       "      <td>Male</td>\n",
       "      <td>21</td>\n",
       "      <td>16</td>\n",
       "      <td>5</td>\n",
       "      <td>38.825898</td>\n",
       "      <td>0</td>\n",
       "      <td>0.0</td>\n",
       "    </tr>\n",
       "    <tr>\n",
       "      <th>2</th>\n",
       "      <td>k403</td>\n",
       "      <td>Ramicane</td>\n",
       "      <td>Male</td>\n",
       "      <td>21</td>\n",
       "      <td>16</td>\n",
       "      <td>10</td>\n",
       "      <td>35.014271</td>\n",
       "      <td>1</td>\n",
       "      <td>0.0</td>\n",
       "    </tr>\n",
       "    <tr>\n",
       "      <th>3</th>\n",
       "      <td>k403</td>\n",
       "      <td>Ramicane</td>\n",
       "      <td>Male</td>\n",
       "      <td>21</td>\n",
       "      <td>16</td>\n",
       "      <td>15</td>\n",
       "      <td>34.223992</td>\n",
       "      <td>1</td>\n",
       "      <td>0.0</td>\n",
       "    </tr>\n",
       "    <tr>\n",
       "      <th>4</th>\n",
       "      <td>k403</td>\n",
       "      <td>Ramicane</td>\n",
       "      <td>Male</td>\n",
       "      <td>21</td>\n",
       "      <td>16</td>\n",
       "      <td>20</td>\n",
       "      <td>32.997729</td>\n",
       "      <td>1</td>\n",
       "      <td>0.0</td>\n",
       "    </tr>\n",
       "  </tbody>\n",
       "</table>\n",
       "</div>"
      ],
      "text/plain": [
       "  Mouse ID Drug Regimen   Sex  Age_months  Weight (g)  Timepoint  \\\n",
       "0     k403     Ramicane  Male          21          16          0   \n",
       "1     k403     Ramicane  Male          21          16          5   \n",
       "2     k403     Ramicane  Male          21          16         10   \n",
       "3     k403     Ramicane  Male          21          16         15   \n",
       "4     k403     Ramicane  Male          21          16         20   \n",
       "\n",
       "   Tumor Volume (mm3)  Metastatic Sites  Tumor Volume (mm3) Change  \n",
       "0           45.000000                 0                        0.0  \n",
       "1           38.825898                 0                        0.0  \n",
       "2           35.014271                 1                        0.0  \n",
       "3           34.223992                 1                        0.0  \n",
       "4           32.997729                 1                        0.0  "
      ]
     },
     "execution_count": 86,
     "metadata": {},
     "output_type": "execute_result"
    }
   ],
   "source": [
    "# Create a copy of capomulin_study_data_clean DataFrame and add \"Tumor Volume (mm3) Change\" column to it\n",
    "csdc_tumor_volume_change = capomulin_study_data_clean.copy()\n",
    "csdc_tumor_volume_change[\"Tumor Volume (mm3) Change\"] = 0.0\n",
    "csdc_tumor_volume_change.head()"
   ]
  },
  {
   "cell_type": "code",
   "execution_count": 87,
   "metadata": {},
   "outputs": [
    {
     "data": {
      "text/html": [
       "<div>\n",
       "<style scoped>\n",
       "    .dataframe tbody tr th:only-of-type {\n",
       "        vertical-align: middle;\n",
       "    }\n",
       "\n",
       "    .dataframe tbody tr th {\n",
       "        vertical-align: top;\n",
       "    }\n",
       "\n",
       "    .dataframe thead th {\n",
       "        text-align: right;\n",
       "    }\n",
       "</style>\n",
       "<table border=\"1\" class=\"dataframe\">\n",
       "  <thead>\n",
       "    <tr style=\"text-align: right;\">\n",
       "      <th></th>\n",
       "      <th>Mouse ID</th>\n",
       "      <th>Initial Tumor Volume (mm3)</th>\n",
       "    </tr>\n",
       "  </thead>\n",
       "  <tbody>\n",
       "    <tr>\n",
       "      <th>0</th>\n",
       "      <td>a203</td>\n",
       "      <td>45.0</td>\n",
       "    </tr>\n",
       "    <tr>\n",
       "      <th>1</th>\n",
       "      <td>a251</td>\n",
       "      <td>45.0</td>\n",
       "    </tr>\n",
       "    <tr>\n",
       "      <th>2</th>\n",
       "      <td>a262</td>\n",
       "      <td>45.0</td>\n",
       "    </tr>\n",
       "    <tr>\n",
       "      <th>3</th>\n",
       "      <td>a275</td>\n",
       "      <td>45.0</td>\n",
       "    </tr>\n",
       "    <tr>\n",
       "      <th>4</th>\n",
       "      <td>a366</td>\n",
       "      <td>45.0</td>\n",
       "    </tr>\n",
       "  </tbody>\n",
       "</table>\n",
       "</div>"
      ],
      "text/plain": [
       "  Mouse ID  Initial Tumor Volume (mm3)\n",
       "0     a203                        45.0\n",
       "1     a251                        45.0\n",
       "2     a262                        45.0\n",
       "3     a275                        45.0\n",
       "4     a366                        45.0"
      ]
     },
     "execution_count": 87,
     "metadata": {},
     "output_type": "execute_result"
    }
   ],
   "source": [
    "# Set the initial Tumor Volume (mm3) for each Mouse ID\n",
    "initial_tumor_volume = csdc_tumor_volume_change.groupby(\"Mouse ID\").first().reset_index()\n",
    "initial_tumor_volume = initial_tumor_volume[[\"Mouse ID\", \"Tumor Volume (mm3)\"]]\n",
    "initial_tumor_volume = initial_tumor_volume.rename(columns={\"Tumor Volume (mm3)\": \"Initial Tumor Volume (mm3)\"})\n",
    "initial_tumor_volume.head()"
   ]
  },
  {
   "cell_type": "code",
   "execution_count": 88,
   "metadata": {},
   "outputs": [
    {
     "data": {
      "text/html": [
       "<div>\n",
       "<style scoped>\n",
       "    .dataframe tbody tr th:only-of-type {\n",
       "        vertical-align: middle;\n",
       "    }\n",
       "\n",
       "    .dataframe tbody tr th {\n",
       "        vertical-align: top;\n",
       "    }\n",
       "\n",
       "    .dataframe thead th {\n",
       "        text-align: right;\n",
       "    }\n",
       "</style>\n",
       "<table border=\"1\" class=\"dataframe\">\n",
       "  <thead>\n",
       "    <tr style=\"text-align: right;\">\n",
       "      <th></th>\n",
       "      <th>Mouse ID</th>\n",
       "      <th>Drug Regimen</th>\n",
       "      <th>Sex</th>\n",
       "      <th>Age_months</th>\n",
       "      <th>Weight (g)</th>\n",
       "      <th>Timepoint</th>\n",
       "      <th>Tumor Volume (mm3)</th>\n",
       "      <th>Metastatic Sites</th>\n",
       "      <th>Tumor Volume (mm3) Change</th>\n",
       "      <th>Initial Tumor Volume (mm3)</th>\n",
       "    </tr>\n",
       "  </thead>\n",
       "  <tbody>\n",
       "    <tr>\n",
       "      <th>0</th>\n",
       "      <td>k403</td>\n",
       "      <td>Ramicane</td>\n",
       "      <td>Male</td>\n",
       "      <td>21</td>\n",
       "      <td>16</td>\n",
       "      <td>0</td>\n",
       "      <td>45.000000</td>\n",
       "      <td>0</td>\n",
       "      <td>0.0</td>\n",
       "      <td>45.0</td>\n",
       "    </tr>\n",
       "    <tr>\n",
       "      <th>1</th>\n",
       "      <td>k403</td>\n",
       "      <td>Ramicane</td>\n",
       "      <td>Male</td>\n",
       "      <td>21</td>\n",
       "      <td>16</td>\n",
       "      <td>5</td>\n",
       "      <td>38.825898</td>\n",
       "      <td>0</td>\n",
       "      <td>0.0</td>\n",
       "      <td>45.0</td>\n",
       "    </tr>\n",
       "    <tr>\n",
       "      <th>2</th>\n",
       "      <td>k403</td>\n",
       "      <td>Ramicane</td>\n",
       "      <td>Male</td>\n",
       "      <td>21</td>\n",
       "      <td>16</td>\n",
       "      <td>10</td>\n",
       "      <td>35.014271</td>\n",
       "      <td>1</td>\n",
       "      <td>0.0</td>\n",
       "      <td>45.0</td>\n",
       "    </tr>\n",
       "    <tr>\n",
       "      <th>3</th>\n",
       "      <td>k403</td>\n",
       "      <td>Ramicane</td>\n",
       "      <td>Male</td>\n",
       "      <td>21</td>\n",
       "      <td>16</td>\n",
       "      <td>15</td>\n",
       "      <td>34.223992</td>\n",
       "      <td>1</td>\n",
       "      <td>0.0</td>\n",
       "      <td>45.0</td>\n",
       "    </tr>\n",
       "    <tr>\n",
       "      <th>4</th>\n",
       "      <td>k403</td>\n",
       "      <td>Ramicane</td>\n",
       "      <td>Male</td>\n",
       "      <td>21</td>\n",
       "      <td>16</td>\n",
       "      <td>20</td>\n",
       "      <td>32.997729</td>\n",
       "      <td>1</td>\n",
       "      <td>0.0</td>\n",
       "      <td>45.0</td>\n",
       "    </tr>\n",
       "  </tbody>\n",
       "</table>\n",
       "</div>"
      ],
      "text/plain": [
       "  Mouse ID Drug Regimen   Sex  Age_months  Weight (g)  Timepoint  \\\n",
       "0     k403     Ramicane  Male          21          16          0   \n",
       "1     k403     Ramicane  Male          21          16          5   \n",
       "2     k403     Ramicane  Male          21          16         10   \n",
       "3     k403     Ramicane  Male          21          16         15   \n",
       "4     k403     Ramicane  Male          21          16         20   \n",
       "\n",
       "   Tumor Volume (mm3)  Metastatic Sites  Tumor Volume (mm3) Change  \\\n",
       "0           45.000000                 0                        0.0   \n",
       "1           38.825898                 0                        0.0   \n",
       "2           35.014271                 1                        0.0   \n",
       "3           34.223992                 1                        0.0   \n",
       "4           32.997729                 1                        0.0   \n",
       "\n",
       "   Initial Tumor Volume (mm3)  \n",
       "0                        45.0  \n",
       "1                        45.0  \n",
       "2                        45.0  \n",
       "3                        45.0  \n",
       "4                        45.0  "
      ]
     },
     "execution_count": 88,
     "metadata": {},
     "output_type": "execute_result"
    }
   ],
   "source": [
    "# Use the initial_tumor_volume DataFrame to set the \"Initial Tumor Volume (mm3)\" for each Mouse ID in the csdc_tumor_volume_change DataFrame\n",
    "csdc_tumor_volume_change = pd.merge(csdc_tumor_volume_change, initial_tumor_volume, on=\"Mouse ID\")\n",
    "csdc_tumor_volume_change.head()"
   ]
  },
  {
   "cell_type": "code",
   "execution_count": 89,
   "metadata": {},
   "outputs": [
    {
     "data": {
      "text/html": [
       "<div>\n",
       "<style scoped>\n",
       "    .dataframe tbody tr th:only-of-type {\n",
       "        vertical-align: middle;\n",
       "    }\n",
       "\n",
       "    .dataframe tbody tr th {\n",
       "        vertical-align: top;\n",
       "    }\n",
       "\n",
       "    .dataframe thead th {\n",
       "        text-align: right;\n",
       "    }\n",
       "</style>\n",
       "<table border=\"1\" class=\"dataframe\">\n",
       "  <thead>\n",
       "    <tr style=\"text-align: right;\">\n",
       "      <th></th>\n",
       "      <th>Mouse ID</th>\n",
       "      <th>Drug Regimen</th>\n",
       "      <th>Sex</th>\n",
       "      <th>Age_months</th>\n",
       "      <th>Weight (g)</th>\n",
       "      <th>Timepoint</th>\n",
       "      <th>Tumor Volume (mm3)</th>\n",
       "      <th>Metastatic Sites</th>\n",
       "      <th>Tumor Volume (mm3) Change</th>\n",
       "      <th>Initial Tumor Volume (mm3)</th>\n",
       "    </tr>\n",
       "  </thead>\n",
       "  <tbody>\n",
       "    <tr>\n",
       "      <th>0</th>\n",
       "      <td>k403</td>\n",
       "      <td>Ramicane</td>\n",
       "      <td>Male</td>\n",
       "      <td>21</td>\n",
       "      <td>16</td>\n",
       "      <td>0</td>\n",
       "      <td>45.000000</td>\n",
       "      <td>0</td>\n",
       "      <td>0.000000</td>\n",
       "      <td>45.0</td>\n",
       "    </tr>\n",
       "    <tr>\n",
       "      <th>1</th>\n",
       "      <td>k403</td>\n",
       "      <td>Ramicane</td>\n",
       "      <td>Male</td>\n",
       "      <td>21</td>\n",
       "      <td>16</td>\n",
       "      <td>5</td>\n",
       "      <td>38.825898</td>\n",
       "      <td>0</td>\n",
       "      <td>-6.174102</td>\n",
       "      <td>45.0</td>\n",
       "    </tr>\n",
       "    <tr>\n",
       "      <th>2</th>\n",
       "      <td>k403</td>\n",
       "      <td>Ramicane</td>\n",
       "      <td>Male</td>\n",
       "      <td>21</td>\n",
       "      <td>16</td>\n",
       "      <td>10</td>\n",
       "      <td>35.014271</td>\n",
       "      <td>1</td>\n",
       "      <td>-9.985729</td>\n",
       "      <td>45.0</td>\n",
       "    </tr>\n",
       "    <tr>\n",
       "      <th>3</th>\n",
       "      <td>k403</td>\n",
       "      <td>Ramicane</td>\n",
       "      <td>Male</td>\n",
       "      <td>21</td>\n",
       "      <td>16</td>\n",
       "      <td>15</td>\n",
       "      <td>34.223992</td>\n",
       "      <td>1</td>\n",
       "      <td>-10.776008</td>\n",
       "      <td>45.0</td>\n",
       "    </tr>\n",
       "    <tr>\n",
       "      <th>4</th>\n",
       "      <td>k403</td>\n",
       "      <td>Ramicane</td>\n",
       "      <td>Male</td>\n",
       "      <td>21</td>\n",
       "      <td>16</td>\n",
       "      <td>20</td>\n",
       "      <td>32.997729</td>\n",
       "      <td>1</td>\n",
       "      <td>-12.002271</td>\n",
       "      <td>45.0</td>\n",
       "    </tr>\n",
       "  </tbody>\n",
       "</table>\n",
       "</div>"
      ],
      "text/plain": [
       "  Mouse ID Drug Regimen   Sex  Age_months  Weight (g)  Timepoint  \\\n",
       "0     k403     Ramicane  Male          21          16          0   \n",
       "1     k403     Ramicane  Male          21          16          5   \n",
       "2     k403     Ramicane  Male          21          16         10   \n",
       "3     k403     Ramicane  Male          21          16         15   \n",
       "4     k403     Ramicane  Male          21          16         20   \n",
       "\n",
       "   Tumor Volume (mm3)  Metastatic Sites  Tumor Volume (mm3) Change  \\\n",
       "0           45.000000                 0                   0.000000   \n",
       "1           38.825898                 0                  -6.174102   \n",
       "2           35.014271                 1                  -9.985729   \n",
       "3           34.223992                 1                 -10.776008   \n",
       "4           32.997729                 1                 -12.002271   \n",
       "\n",
       "   Initial Tumor Volume (mm3)  \n",
       "0                        45.0  \n",
       "1                        45.0  \n",
       "2                        45.0  \n",
       "3                        45.0  \n",
       "4                        45.0  "
      ]
     },
     "execution_count": 89,
     "metadata": {},
     "output_type": "execute_result"
    }
   ],
   "source": [
    "# Calculate the \"Tumor Volume (mm3) Change\" for each Mouse ID in the csdc_tumor_volume_change DataFrame\n",
    "csdc_tumor_volume_change[\"Tumor Volume (mm3) Change\"] = csdc_tumor_volume_change[\"Tumor Volume (mm3)\"] - csdc_tumor_volume_change[\"Initial Tumor Volume (mm3)\"]\n",
    "csdc_tumor_volume_change.head()"
   ]
  },
  {
   "cell_type": "code",
   "execution_count": 90,
   "metadata": {},
   "outputs": [
    {
     "data": {
      "text/html": [
       "<div>\n",
       "<style scoped>\n",
       "    .dataframe tbody tr th:only-of-type {\n",
       "        vertical-align: middle;\n",
       "    }\n",
       "\n",
       "    .dataframe tbody tr th {\n",
       "        vertical-align: top;\n",
       "    }\n",
       "\n",
       "    .dataframe thead th {\n",
       "        text-align: right;\n",
       "    }\n",
       "</style>\n",
       "<table border=\"1\" class=\"dataframe\">\n",
       "  <thead>\n",
       "    <tr style=\"text-align: right;\">\n",
       "      <th></th>\n",
       "      <th>Mouse ID</th>\n",
       "      <th>Drug Regimen</th>\n",
       "      <th>Sex</th>\n",
       "      <th>Age_months</th>\n",
       "      <th>Weight (g)</th>\n",
       "      <th>Timepoint</th>\n",
       "      <th>Tumor Volume (mm3)</th>\n",
       "      <th>Metastatic Sites</th>\n",
       "      <th>Tumor Volume (mm3) Change</th>\n",
       "      <th>Initial Tumor Volume (mm3)</th>\n",
       "      <th>Tumor Volume % Reduction</th>\n",
       "    </tr>\n",
       "  </thead>\n",
       "  <tbody>\n",
       "    <tr>\n",
       "      <th>0</th>\n",
       "      <td>k403</td>\n",
       "      <td>Ramicane</td>\n",
       "      <td>Male</td>\n",
       "      <td>21</td>\n",
       "      <td>16</td>\n",
       "      <td>0</td>\n",
       "      <td>45.000000</td>\n",
       "      <td>0</td>\n",
       "      <td>0.000000</td>\n",
       "      <td>45.0</td>\n",
       "      <td>0.000000</td>\n",
       "    </tr>\n",
       "    <tr>\n",
       "      <th>1</th>\n",
       "      <td>k403</td>\n",
       "      <td>Ramicane</td>\n",
       "      <td>Male</td>\n",
       "      <td>21</td>\n",
       "      <td>16</td>\n",
       "      <td>5</td>\n",
       "      <td>38.825898</td>\n",
       "      <td>0</td>\n",
       "      <td>-6.174102</td>\n",
       "      <td>45.0</td>\n",
       "      <td>-13.720227</td>\n",
       "    </tr>\n",
       "    <tr>\n",
       "      <th>2</th>\n",
       "      <td>k403</td>\n",
       "      <td>Ramicane</td>\n",
       "      <td>Male</td>\n",
       "      <td>21</td>\n",
       "      <td>16</td>\n",
       "      <td>10</td>\n",
       "      <td>35.014271</td>\n",
       "      <td>1</td>\n",
       "      <td>-9.985729</td>\n",
       "      <td>45.0</td>\n",
       "      <td>-22.190508</td>\n",
       "    </tr>\n",
       "    <tr>\n",
       "      <th>3</th>\n",
       "      <td>k403</td>\n",
       "      <td>Ramicane</td>\n",
       "      <td>Male</td>\n",
       "      <td>21</td>\n",
       "      <td>16</td>\n",
       "      <td>15</td>\n",
       "      <td>34.223992</td>\n",
       "      <td>1</td>\n",
       "      <td>-10.776008</td>\n",
       "      <td>45.0</td>\n",
       "      <td>-23.946685</td>\n",
       "    </tr>\n",
       "    <tr>\n",
       "      <th>4</th>\n",
       "      <td>k403</td>\n",
       "      <td>Ramicane</td>\n",
       "      <td>Male</td>\n",
       "      <td>21</td>\n",
       "      <td>16</td>\n",
       "      <td>20</td>\n",
       "      <td>32.997729</td>\n",
       "      <td>1</td>\n",
       "      <td>-12.002271</td>\n",
       "      <td>45.0</td>\n",
       "      <td>-26.671714</td>\n",
       "    </tr>\n",
       "  </tbody>\n",
       "</table>\n",
       "</div>"
      ],
      "text/plain": [
       "  Mouse ID Drug Regimen   Sex  Age_months  Weight (g)  Timepoint  \\\n",
       "0     k403     Ramicane  Male          21          16          0   \n",
       "1     k403     Ramicane  Male          21          16          5   \n",
       "2     k403     Ramicane  Male          21          16         10   \n",
       "3     k403     Ramicane  Male          21          16         15   \n",
       "4     k403     Ramicane  Male          21          16         20   \n",
       "\n",
       "   Tumor Volume (mm3)  Metastatic Sites  Tumor Volume (mm3) Change  \\\n",
       "0           45.000000                 0                   0.000000   \n",
       "1           38.825898                 0                  -6.174102   \n",
       "2           35.014271                 1                  -9.985729   \n",
       "3           34.223992                 1                 -10.776008   \n",
       "4           32.997729                 1                 -12.002271   \n",
       "\n",
       "   Initial Tumor Volume (mm3)  Tumor Volume % Reduction  \n",
       "0                        45.0                  0.000000  \n",
       "1                        45.0                -13.720227  \n",
       "2                        45.0                -22.190508  \n",
       "3                        45.0                -23.946685  \n",
       "4                        45.0                -26.671714  "
      ]
     },
     "execution_count": 90,
     "metadata": {},
     "output_type": "execute_result"
    }
   ],
   "source": [
    "# Add a [\"% Size Reduction\"] column to the csdc_tumor_volume_change DataFrame\n",
    "csdc_tumor_volume_change[\"Tumor Volume % Reduction\"] = (csdc_tumor_volume_change[\"Tumor Volume (mm3) Change\"] / csdc_tumor_volume_change[\"Initial Tumor Volume (mm3)\"]) * 100\n",
    "csdc_tumor_volume_change.head()"
   ]
  },
  {
   "cell_type": "code",
   "execution_count": 91,
   "metadata": {},
   "outputs": [
    {
     "name": "stdout",
     "output_type": "stream",
     "text": [
      "Cleaned data with Tumor Volume Change saved to cleaned_data\\capomulin_study_data_clean_tumor_volume_change.csv\n"
     ]
    }
   ],
   "source": [
    "# Save the csdc_tumor_volume_change DataFrame to a new CSV file\n",
    "csdc_tumor_volume_change_path = os.path.join(\"cleaned_data\", \"capomulin_study_data_clean_tumor_volume_change.csv\")\n",
    "csdc_tumor_volume_change.to_csv(csdc_tumor_volume_change_path, index=False)\n",
    "print(f\"Cleaned data with Tumor Volume Change saved to {csdc_tumor_volume_change_path}\")"
   ]
  },
  {
   "cell_type": "code",
   "execution_count": 92,
   "metadata": {},
   "outputs": [
    {
     "data": {
      "image/png": "[encoded data removed]",
      "text/plain": [
       "<Figure size 640x480 with 1 Axes>"
      ]
     },
     "metadata": {},
     "output_type": "display_data"
    }
   ],
   "source": [
    "# Create a histogram of the age distribution of the mice in the study using the mouse_metadata DataFrame\n",
    "plt.hist(mouse_metadata[\"Age_months\"], bins=10, color=\"blue\", alpha=0.7, edgecolor=\"black\")\n",
    "plt.title(\"Age Distribution of Mice in Study\")\n",
    "plt.xlabel(\"Age (months)\")\n",
    "plt.ylabel(\"Number of Mice\")\n",
    "plt.grid(axis=\"y\")\n",
    "plt.tight_layout()\n",
    "plt.show()"
   ]
  },
  {
   "cell_type": "code",
   "execution_count": 93,
   "metadata": {},
   "outputs": [
    {
     "data": {
      "image/png": "[encoded data removed]",
      "text/plain": [
       "<Figure size 640x480 with 1 Axes>"
      ]
     },
     "metadata": {},
     "output_type": "display_data"
    }
   ],
   "source": [
    "# Determine if there is a coorelation between the age of the mice and the tumor total volume change\n",
    "# Create a scatter plot of the age of the mice and the tumor total volume change using the csdc_tumor_volume_change DataFrame at the last Timepoint\n",
    "last_timepoint = csdc_tumor_volume_change[csdc_tumor_volume_change[\"Timepoint\"] == 45]\n",
    "plt.scatter(last_timepoint[\"Age_months\"], last_timepoint[\"Tumor Volume (mm3) Change\"], color=\"blue\", alpha=0.7, edgecolor=\"black\")\n",
    "plt.title(\"Age of Mice vs. Tumor Volume Change\")\n",
    "plt.xlabel(\"Age of Mice (months)\")\n",
    "plt.ylabel(\"Tumor Volume Change (mm3)\")\n",
    "plt.grid()\n",
    "plt.tight_layout()\n",
    "plt.show()"
   ]
  },
  {
   "cell_type": "code",
   "execution_count": 94,
   "metadata": {},
   "outputs": [
    {
     "data": {
      "image/png": "[encoded data removed]",
      "text/plain": [
       "<Figure size 640x480 with 1 Axes>"
      ]
     },
     "metadata": {},
     "output_type": "display_data"
    }
   ],
   "source": [
    "# Create a histogram of the weight distribution of the mice in the study using the mouse_metadata DataFrame\n",
    "plt.hist(mouse_metadata[\"Weight (g)\"], bins=10, color=\"blue\", alpha=0.7, edgecolor=\"black\")\n",
    "plt.title(\"Weight Distribution of Mice in Study\")\n",
    "plt.xlabel(\"Weight (g)\")\n",
    "plt.ylabel(\"Number of Mice\")\n",
    "plt.grid(axis=\"y\")\n",
    "plt.tight_layout()\n",
    "plt.show()"
   ]
  },
  {
   "cell_type": "code",
   "execution_count": 95,
   "metadata": {},
   "outputs": [
    {
     "data": {
      "image/png": "[encoded data removed]",
      "text/plain": [
       "<Figure size 640x480 with 1 Axes>"
      ]
     },
     "metadata": {},
     "output_type": "display_data"
    }
   ],
   "source": [
    "# Create a scatter plot of the weight of the mice and the tumor total volume change using the csdc_tumor_volume_change DataFrame at the last Timepoint\n",
    "plt.scatter(last_timepoint[\"Weight (g)\"], last_timepoint[\"Tumor Volume (mm3) Change\"], color=\"blue\", alpha=0.7, edgecolor=\"black\")\n",
    "plt.title(\"Weight of Mice vs. Tumor Volume Change\")\n",
    "plt.xlabel(\"Weight of Mice (g)\")\n",
    "plt.ylabel(\"Tumor Volume Change (mm3)\")\n",
    "plt.grid()\n",
    "plt.tight_layout()\n",
    "plt.show()"
   ]
  },
  {
   "cell_type": "code",
   "execution_count": 96,
   "metadata": {},
   "outputs": [
    {
     "name": "stdout",
     "output_type": "stream",
     "text": [
      "['Ramicane' 'Capomulin' 'Infubinol' 'Placebo' 'Ceftamin' 'Stelasyn'\n",
      " 'Zoniferol' 'Ketapril' 'Propriva' 'Naftisol']\n"
     ]
    }
   ],
   "source": [
    "# List unique Drug Regimen values in the capomulin_study_data_clean DataFrame\n",
    "drug_regimens = capomulin_study_data_clean[\"Drug Regimen\"].unique()\n",
    "print(drug_regimens)"
   ]
  },
  {
   "cell_type": "code",
   "execution_count": 97,
   "metadata": {},
   "outputs": [],
   "source": [
    "# Using the last_timepoint DataFrame, separate the data into DataFrames for each Drug Regimen\n",
    "ramicane_data = last_timepoint[last_timepoint[\"Drug Regimen\"] == \"Ramicane\"]\n",
    "capomulin_data = last_timepoint[last_timepoint[\"Drug Regimen\"] == \"Capomulin\"]\n",
    "infubinol_data = last_timepoint[last_timepoint[\"Drug Regimen\"] == \"Infubinol\"]\n",
    "placebo_data = last_timepoint[last_timepoint[\"Drug Regimen\"] == \"Placebo\"]\n",
    "ceftamin_data = last_timepoint[last_timepoint[\"Drug Regimen\"] == \"Ceftamin\"]\n",
    "stelasyn_data = last_timepoint[last_timepoint[\"Drug Regimen\"] == \"Stelasyn\"]\n",
    "zoniferol_data = last_timepoint[last_timepoint[\"Drug Regimen\"] == \"Zoniferol\"]\n",
    "ketapril_data = last_timepoint[last_timepoint[\"Drug Regimen\"] == \"Ketapril\"]\n",
    "propriva_data = last_timepoint[last_timepoint[\"Drug Regimen\"] == \"Propriva\"]\n",
    "naftisol_data = last_timepoint[last_timepoint[\"Drug Regimen\"] == \"Naftisol\"] "
   ]
  },
  {
   "cell_type": "code",
   "execution_count": 98,
   "metadata": {},
   "outputs": [
    {
     "name": "stdout",
     "output_type": "stream",
     "text": [
      "Empty DataFrame\n",
      "Columns: [Drug Regimen, Mean Age (months), Median Age (months), Age Variance, Age Standard Deviation, Age SEM]\n",
      "Index: []\n"
     ]
    }
   ],
   "source": [
    "# Create a DataFrame to hold age statistical analysis for each Drug Regimen: mean, median, variance, standard deviation, and SEM\n",
    "drug_regimen_age_stats = pd.DataFrame(columns=[\"Drug Regimen\", \"Mean Age (months)\", \"Median Age (months)\", \"Age Variance\", \"Age Standard Deviation\", \"Age SEM\"])\n",
    "print(drug_regimen_age_stats)"
   ]
  },
  {
   "cell_type": "code",
   "execution_count": 99,
   "metadata": {},
   "outputs": [
    {
     "data": {
      "text/html": [
       "<div>\n",
       "<style scoped>\n",
       "    .dataframe tbody tr th:only-of-type {\n",
       "        vertical-align: middle;\n",
       "    }\n",
       "\n",
       "    .dataframe tbody tr th {\n",
       "        vertical-align: top;\n",
       "    }\n",
       "\n",
       "    .dataframe thead th {\n",
       "        text-align: right;\n",
       "    }\n",
       "</style>\n",
       "<table border=\"1\" class=\"dataframe\">\n",
       "  <thead>\n",
       "    <tr style=\"text-align: right;\">\n",
       "      <th></th>\n",
       "      <th>Drug Regimen</th>\n",
       "      <th>Mean Age (months)</th>\n",
       "      <th>Median Age (months)</th>\n",
       "      <th>Age Variance</th>\n",
       "      <th>Age Standard Deviation</th>\n",
       "      <th>Age SEM</th>\n",
       "    </tr>\n",
       "  </thead>\n",
       "  <tbody>\n",
       "    <tr>\n",
       "      <th>0</th>\n",
       "      <td>Ramicane</td>\n",
       "      <td>10.050000</td>\n",
       "      <td>9.0</td>\n",
       "      <td>30.997368</td>\n",
       "      <td>5.567528</td>\n",
       "      <td>1.244937</td>\n",
       "    </tr>\n",
       "    <tr>\n",
       "      <th>1</th>\n",
       "      <td>Capomulin</td>\n",
       "      <td>12.809524</td>\n",
       "      <td>16.0</td>\n",
       "      <td>62.561905</td>\n",
       "      <td>7.909608</td>\n",
       "      <td>1.726018</td>\n",
       "    </tr>\n",
       "    <tr>\n",
       "      <th>2</th>\n",
       "      <td>Infubinol</td>\n",
       "      <td>18.555556</td>\n",
       "      <td>20.0</td>\n",
       "      <td>31.277778</td>\n",
       "      <td>5.592654</td>\n",
       "      <td>1.864218</td>\n",
       "    </tr>\n",
       "    <tr>\n",
       "      <th>3</th>\n",
       "      <td>Placebo</td>\n",
       "      <td>11.818182</td>\n",
       "      <td>12.0</td>\n",
       "      <td>43.563636</td>\n",
       "      <td>6.600275</td>\n",
       "      <td>1.990058</td>\n",
       "    </tr>\n",
       "    <tr>\n",
       "      <th>4</th>\n",
       "      <td>Ceftamin</td>\n",
       "      <td>13.538462</td>\n",
       "      <td>15.0</td>\n",
       "      <td>70.269231</td>\n",
       "      <td>8.382674</td>\n",
       "      <td>2.324936</td>\n",
       "    </tr>\n",
       "    <tr>\n",
       "      <th>5</th>\n",
       "      <td>Stelasyn</td>\n",
       "      <td>12.727273</td>\n",
       "      <td>13.0</td>\n",
       "      <td>86.418182</td>\n",
       "      <td>9.296138</td>\n",
       "      <td>2.802891</td>\n",
       "    </tr>\n",
       "    <tr>\n",
       "      <th>6</th>\n",
       "      <td>Zoniferol</td>\n",
       "      <td>13.071429</td>\n",
       "      <td>13.5</td>\n",
       "      <td>34.225275</td>\n",
       "      <td>5.850237</td>\n",
       "      <td>1.563542</td>\n",
       "    </tr>\n",
       "    <tr>\n",
       "      <th>7</th>\n",
       "      <td>Ketapril</td>\n",
       "      <td>16.272727</td>\n",
       "      <td>18.0</td>\n",
       "      <td>27.618182</td>\n",
       "      <td>5.255300</td>\n",
       "      <td>1.584533</td>\n",
       "    </tr>\n",
       "    <tr>\n",
       "      <th>8</th>\n",
       "      <td>Propriva</td>\n",
       "      <td>12.142857</td>\n",
       "      <td>10.0</td>\n",
       "      <td>56.476190</td>\n",
       "      <td>7.515064</td>\n",
       "      <td>2.840427</td>\n",
       "    </tr>\n",
       "    <tr>\n",
       "      <th>9</th>\n",
       "      <td>Naftisol</td>\n",
       "      <td>12.230769</td>\n",
       "      <td>9.0</td>\n",
       "      <td>40.525641</td>\n",
       "      <td>6.365975</td>\n",
       "      <td>1.765604</td>\n",
       "    </tr>\n",
       "  </tbody>\n",
       "</table>\n",
       "</div>"
      ],
      "text/plain": [
       "  Drug Regimen  Mean Age (months)  Median Age (months)  Age Variance  \\\n",
       "0     Ramicane          10.050000                  9.0     30.997368   \n",
       "1    Capomulin          12.809524                 16.0     62.561905   \n",
       "2    Infubinol          18.555556                 20.0     31.277778   \n",
       "3      Placebo          11.818182                 12.0     43.563636   \n",
       "4     Ceftamin          13.538462                 15.0     70.269231   \n",
       "5     Stelasyn          12.727273                 13.0     86.418182   \n",
       "6    Zoniferol          13.071429                 13.5     34.225275   \n",
       "7     Ketapril          16.272727                 18.0     27.618182   \n",
       "8     Propriva          12.142857                 10.0     56.476190   \n",
       "9     Naftisol          12.230769                  9.0     40.525641   \n",
       "\n",
       "   Age Standard Deviation   Age SEM  \n",
       "0                5.567528  1.244937  \n",
       "1                7.909608  1.726018  \n",
       "2                5.592654  1.864218  \n",
       "3                6.600275  1.990058  \n",
       "4                8.382674  2.324936  \n",
       "5                9.296138  2.802891  \n",
       "6                5.850237  1.563542  \n",
       "7                5.255300  1.584533  \n",
       "8                7.515064  2.840427  \n",
       "9                6.365975  1.765604  "
      ]
     },
     "execution_count": 99,
     "metadata": {},
     "output_type": "execute_result"
    }
   ],
   "source": [
    "age_stats_list = []\n",
    "\n",
    "for drug in drug_regimens:\n",
    "    drug_data = last_timepoint[last_timepoint[\"Drug Regimen\"] == drug]\n",
    "    mean_age = drug_data[\"Age_months\"].mean()\n",
    "    median_age = drug_data[\"Age_months\"].median()\n",
    "    age_variance = drug_data[\"Age_months\"].var()\n",
    "    age_std_dev = drug_data[\"Age_months\"].std()\n",
    "    age_sem = drug_data[\"Age_months\"].sem()\n",
    "\n",
    "    # Append the dictionary to the list\n",
    "    age_stats_list.append({\n",
    "        \"Drug Regimen\": drug, \n",
    "        \"Mean Age (months)\": mean_age, \n",
    "        \"Median Age (months)\": median_age, \n",
    "        \"Age Variance\": age_variance, \n",
    "        \"Age Standard Deviation\": age_std_dev, \n",
    "        \"Age SEM\": age_sem\n",
    "    })\n",
    "\n",
    "# Convert the list of dictionaries to a DataFrame\n",
    "drug_regimen_age_stats = pd.DataFrame(age_stats_list)\n",
    "\n",
    "# Display the DataFrame\n",
    "drug_regimen_age_stats"
   ]
  },
  {
   "cell_type": "code",
   "execution_count": 100,
   "metadata": {},
   "outputs": [
    {
     "name": "stdout",
     "output_type": "stream",
     "text": [
      "Empty DataFrame\n",
      "Columns: [Drug Regimen, Mean Weight (g), Median Weight (g), Weight Variance, Weight Standard Deviation, Weight SEM]\n",
      "Index: []\n"
     ]
    }
   ],
   "source": [
    "# Create a DataFrame to hold weight statistical analysis for each Drug Regimen: mean, median, variance, standard deviation, and SEM\n",
    "drug_regimen_weight_stats = pd.DataFrame(columns=[\"Drug Regimen\", \"Mean Weight (g)\", \"Median Weight (g)\", \"Weight Variance\", \"Weight Standard Deviation\", \"Weight SEM\"])\n",
    "print(drug_regimen_weight_stats)"
   ]
  },
  {
   "cell_type": "code",
   "execution_count": 101,
   "metadata": {},
   "outputs": [
    {
     "data": {
      "text/html": [
       "<div>\n",
       "<style scoped>\n",
       "    .dataframe tbody tr th:only-of-type {\n",
       "        vertical-align: middle;\n",
       "    }\n",
       "\n",
       "    .dataframe tbody tr th {\n",
       "        vertical-align: top;\n",
       "    }\n",
       "\n",
       "    .dataframe thead th {\n",
       "        text-align: right;\n",
       "    }\n",
       "</style>\n",
       "<table border=\"1\" class=\"dataframe\">\n",
       "  <thead>\n",
       "    <tr style=\"text-align: right;\">\n",
       "      <th></th>\n",
       "      <th>Drug Regimen</th>\n",
       "      <th>Mean Weight (g)</th>\n",
       "      <th>Median Weight (g)</th>\n",
       "      <th>Weight Variance</th>\n",
       "      <th>Weight Standard Deviation</th>\n",
       "      <th>Weight SEM</th>\n",
       "    </tr>\n",
       "  </thead>\n",
       "  <tbody>\n",
       "    <tr>\n",
       "      <th>0</th>\n",
       "      <td>Ramicane</td>\n",
       "      <td>19.300000</td>\n",
       "      <td>18.5</td>\n",
       "      <td>10.642105</td>\n",
       "      <td>3.262224</td>\n",
       "      <td>0.729455</td>\n",
       "    </tr>\n",
       "    <tr>\n",
       "      <th>1</th>\n",
       "      <td>Capomulin</td>\n",
       "      <td>19.857143</td>\n",
       "      <td>20.0</td>\n",
       "      <td>7.628571</td>\n",
       "      <td>2.761987</td>\n",
       "      <td>0.602715</td>\n",
       "    </tr>\n",
       "    <tr>\n",
       "      <th>2</th>\n",
       "      <td>Infubinol</td>\n",
       "      <td>26.666667</td>\n",
       "      <td>26.0</td>\n",
       "      <td>5.500000</td>\n",
       "      <td>2.345208</td>\n",
       "      <td>0.781736</td>\n",
       "    </tr>\n",
       "    <tr>\n",
       "      <th>3</th>\n",
       "      <td>Placebo</td>\n",
       "      <td>27.727273</td>\n",
       "      <td>27.0</td>\n",
       "      <td>3.218182</td>\n",
       "      <td>1.793929</td>\n",
       "      <td>0.540890</td>\n",
       "    </tr>\n",
       "    <tr>\n",
       "      <th>4</th>\n",
       "      <td>Ceftamin</td>\n",
       "      <td>27.615385</td>\n",
       "      <td>28.0</td>\n",
       "      <td>2.423077</td>\n",
       "      <td>1.556624</td>\n",
       "      <td>0.431730</td>\n",
       "    </tr>\n",
       "    <tr>\n",
       "      <th>5</th>\n",
       "      <td>Stelasyn</td>\n",
       "      <td>27.545455</td>\n",
       "      <td>28.0</td>\n",
       "      <td>2.872727</td>\n",
       "      <td>1.694912</td>\n",
       "      <td>0.511035</td>\n",
       "    </tr>\n",
       "    <tr>\n",
       "      <th>6</th>\n",
       "      <td>Zoniferol</td>\n",
       "      <td>27.571429</td>\n",
       "      <td>28.0</td>\n",
       "      <td>1.956044</td>\n",
       "      <td>1.398586</td>\n",
       "      <td>0.373788</td>\n",
       "    </tr>\n",
       "    <tr>\n",
       "      <th>7</th>\n",
       "      <td>Ketapril</td>\n",
       "      <td>27.727273</td>\n",
       "      <td>28.0</td>\n",
       "      <td>3.218182</td>\n",
       "      <td>1.793929</td>\n",
       "      <td>0.540890</td>\n",
       "    </tr>\n",
       "    <tr>\n",
       "      <th>8</th>\n",
       "      <td>Propriva</td>\n",
       "      <td>27.142857</td>\n",
       "      <td>26.0</td>\n",
       "      <td>3.476190</td>\n",
       "      <td>1.864454</td>\n",
       "      <td>0.704698</td>\n",
       "    </tr>\n",
       "    <tr>\n",
       "      <th>9</th>\n",
       "      <td>Naftisol</td>\n",
       "      <td>27.153846</td>\n",
       "      <td>27.0</td>\n",
       "      <td>2.807692</td>\n",
       "      <td>1.675617</td>\n",
       "      <td>0.464733</td>\n",
       "    </tr>\n",
       "  </tbody>\n",
       "</table>\n",
       "</div>"
      ],
      "text/plain": [
       "  Drug Regimen  Mean Weight (g)  Median Weight (g)  Weight Variance  \\\n",
       "0     Ramicane        19.300000               18.5        10.642105   \n",
       "1    Capomulin        19.857143               20.0         7.628571   \n",
       "2    Infubinol        26.666667               26.0         5.500000   \n",
       "3      Placebo        27.727273               27.0         3.218182   \n",
       "4     Ceftamin        27.615385               28.0         2.423077   \n",
       "5     Stelasyn        27.545455               28.0         2.872727   \n",
       "6    Zoniferol        27.571429               28.0         1.956044   \n",
       "7     Ketapril        27.727273               28.0         3.218182   \n",
       "8     Propriva        27.142857               26.0         3.476190   \n",
       "9     Naftisol        27.153846               27.0         2.807692   \n",
       "\n",
       "   Weight Standard Deviation  Weight SEM  \n",
       "0                   3.262224    0.729455  \n",
       "1                   2.761987    0.602715  \n",
       "2                   2.345208    0.781736  \n",
       "3                   1.793929    0.540890  \n",
       "4                   1.556624    0.431730  \n",
       "5                   1.694912    0.511035  \n",
       "6                   1.398586    0.373788  \n",
       "7                   1.793929    0.540890  \n",
       "8                   1.864454    0.704698  \n",
       "9                   1.675617    0.464733  "
      ]
     },
     "execution_count": 101,
     "metadata": {},
     "output_type": "execute_result"
    }
   ],
   "source": [
    "weight_stats_list = []\n",
    "\n",
    "for drug in drug_regimens:\n",
    "    drug_data = last_timepoint[last_timepoint[\"Drug Regimen\"] == drug]\n",
    "    mean_weight = drug_data[\"Weight (g)\"].mean()\n",
    "    median_weight = drug_data[\"Weight (g)\"].median()\n",
    "    weight_variance = drug_data[\"Weight (g)\"].var()\n",
    "    weight_std_dev = drug_data[\"Weight (g)\"].std()\n",
    "    weight_sem = drug_data[\"Weight (g)\"].sem()\n",
    "\n",
    "    # Append the dictionary to the list\n",
    "    weight_stats_list.append({\n",
    "        \"Drug Regimen\": drug, \n",
    "        \"Mean Weight (g)\": mean_weight, \n",
    "        \"Median Weight (g)\": median_weight, \n",
    "        \"Weight Variance\": weight_variance, \n",
    "        \"Weight Standard Deviation\": weight_std_dev, \n",
    "        \"Weight SEM\": weight_sem\n",
    "    })\n",
    "\n",
    "# Convert the list of dictionaries to a DataFrame\n",
    "drug_regimen_weight_stats = pd.DataFrame(weight_stats_list)\n",
    "\n",
    "# Display the DataFrame\n",
    "drug_regimen_weight_stats"
   ]
  },
  {
   "cell_type": "code",
   "execution_count": 102,
   "metadata": {},
   "outputs": [
    {
     "name": "stdout",
     "output_type": "stream",
     "text": [
      "Drug Regimen Age Stats saved to cleaned_data\\drug_regimen_age_stats.csv\n"
     ]
    }
   ],
   "source": [
    "# Save the drug_regimen_age_stats DataFrame to a new CSV file\n",
    "drug_regimen_age_stats_path = os.path.join(\"cleaned_data\", \"drug_regimen_age_stats.csv\")\n",
    "drug_regimen_age_stats.to_csv(drug_regimen_age_stats_path, index=False)\n",
    "print(f\"Drug Regimen Age Stats saved to {drug_regimen_age_stats_path}\")"
   ]
  },
  {
   "cell_type": "code",
   "execution_count": 103,
   "metadata": {},
   "outputs": [
    {
     "name": "stdout",
     "output_type": "stream",
     "text": [
      "Drug Regimen Weight Stats saved to cleaned_data\\drug_regimen_weight_stats.csv\n"
     ]
    }
   ],
   "source": [
    "# Save the drug_regimen_weight_stats DataFrame to a new CSV file\n",
    "drug_regimen_weight_stats_path = os.path.join(\"cleaned_data\", \"drug_regimen_weight_stats.csv\")\n",
    "drug_regimen_weight_stats.to_csv(drug_regimen_weight_stats_path, index=False)\n",
    "print(f\"Drug Regimen Weight Stats saved to {drug_regimen_weight_stats_path}\")"
   ]
  },
  {
   "cell_type": "code",
   "execution_count": 104,
   "metadata": {},
   "outputs": [
    {
     "name": "stdout",
     "output_type": "stream",
     "text": [
      "Last Timepoint data saved to cleaned_data\\last_timepoint.csv\n"
     ]
    }
   ],
   "source": [
    "# Save last_timepoint DataFrame to a new CSV file\n",
    "last_timepoint_path = os.path.join(\"cleaned_data\", \"last_timepoint.csv\")\n",
    "last_timepoint.to_csv(last_timepoint_path, index=False)\n",
    "print(f\"Last Timepoint data saved to {last_timepoint_path}\")"
   ]
  },
  {
   "cell_type": "code",
   "execution_count": 105,
   "metadata": {},
   "outputs": [
    {
     "data": {
      "text/plain": [
       "array(['Ramicane', 'Capomulin', 'Infubinol', 'Placebo', 'Ceftamin',\n",
       "       'Stelasyn', 'Zoniferol', 'Ketapril', 'Propriva', 'Naftisol'],\n",
       "      dtype=object)"
      ]
     },
     "execution_count": 105,
     "metadata": {},
     "output_type": "execute_result"
    }
   ],
   "source": [
    "drug_regimens"
   ]
  },
  {
   "cell_type": "code",
   "execution_count": 106,
   "metadata": {},
   "outputs": [
    {
     "name": "stdout",
     "output_type": "stream",
     "text": [
      "Empty DataFrame\n",
      "Columns: [Drug Regimen, Mean Tumor Volume (mm3) Change, Median Tumor Volume (mm3) Change, Tumor Volume (mm3) Change Variance, Tumor Volume (mm3) Change Standard Deviation, Tumor Volume (mm3) Change SEM]\n",
      "Index: []\n"
     ]
    }
   ],
   "source": [
    "# Generate a summary statistics table of mean, median, variance, standard deviation, and SEM of the tumor change in volume for each drug regimen\n",
    "# Create a DataFrame to hold tumor volume change statistical analysis for each Drug Regimen: mean, median, variance, standard deviation, and SEM\n",
    "drug_regimen_tumor_volume_change_stats = pd.DataFrame(columns=[\"Drug Regimen\", \"Mean Tumor Volume (mm3) Change\", \"Median Tumor Volume (mm3) Change\", \"Tumor Volume (mm3) Change Variance\", \"Tumor Volume (mm3) Change Standard Deviation\", \"Tumor Volume (mm3) Change SEM\"])\n",
    "print(drug_regimen_tumor_volume_change_stats)"
   ]
  },
  {
   "cell_type": "code",
   "execution_count": 107,
   "metadata": {},
   "outputs": [
    {
     "data": {
      "text/html": [
       "<div>\n",
       "<style scoped>\n",
       "    .dataframe tbody tr th:only-of-type {\n",
       "        vertical-align: middle;\n",
       "    }\n",
       "\n",
       "    .dataframe tbody tr th {\n",
       "        vertical-align: top;\n",
       "    }\n",
       "\n",
       "    .dataframe thead th {\n",
       "        text-align: right;\n",
       "    }\n",
       "</style>\n",
       "<table border=\"1\" class=\"dataframe\">\n",
       "  <thead>\n",
       "    <tr style=\"text-align: right;\">\n",
       "      <th></th>\n",
       "      <th>Drug Regimen</th>\n",
       "      <th>Mean Tumor Volume (mm3) Change</th>\n",
       "      <th>Median Tumor Volume (mm3) Change</th>\n",
       "      <th>Tumor Volume (mm3) Change Variance</th>\n",
       "      <th>Tumor Volume (mm3) Change Standard Deviation</th>\n",
       "      <th>Tumor Volume (mm3) Change SEM</th>\n",
       "    </tr>\n",
       "  </thead>\n",
       "  <tbody>\n",
       "    <tr>\n",
       "      <th>0</th>\n",
       "      <td>Ramicane</td>\n",
       "      <td>-10.044405</td>\n",
       "      <td>-10.151373</td>\n",
       "      <td>30.101010</td>\n",
       "      <td>5.486439</td>\n",
       "      <td>1.226805</td>\n",
       "    </tr>\n",
       "    <tr>\n",
       "      <th>1</th>\n",
       "      <td>Capomulin</td>\n",
       "      <td>-8.763886</td>\n",
       "      <td>-7.688154</td>\n",
       "      <td>31.460537</td>\n",
       "      <td>5.608969</td>\n",
       "      <td>1.223977</td>\n",
       "    </tr>\n",
       "    <tr>\n",
       "      <th>2</th>\n",
       "      <td>Infubinol</td>\n",
       "      <td>20.755562</td>\n",
       "      <td>21.083066</td>\n",
       "      <td>11.787426</td>\n",
       "      <td>3.433282</td>\n",
       "      <td>1.144427</td>\n",
       "    </tr>\n",
       "    <tr>\n",
       "      <th>3</th>\n",
       "      <td>Placebo</td>\n",
       "      <td>23.084082</td>\n",
       "      <td>24.042841</td>\n",
       "      <td>20.098783</td>\n",
       "      <td>4.483167</td>\n",
       "      <td>1.351726</td>\n",
       "    </tr>\n",
       "    <tr>\n",
       "      <th>4</th>\n",
       "      <td>Ceftamin</td>\n",
       "      <td>19.132421</td>\n",
       "      <td>19.299830</td>\n",
       "      <td>10.585242</td>\n",
       "      <td>3.253497</td>\n",
       "      <td>0.902358</td>\n",
       "    </tr>\n",
       "    <tr>\n",
       "      <th>5</th>\n",
       "      <td>Stelasyn</td>\n",
       "      <td>23.438310</td>\n",
       "      <td>24.299149</td>\n",
       "      <td>27.340818</td>\n",
       "      <td>5.228845</td>\n",
       "      <td>1.576556</td>\n",
       "    </tr>\n",
       "    <tr>\n",
       "      <th>6</th>\n",
       "      <td>Zoniferol</td>\n",
       "      <td>20.960888</td>\n",
       "      <td>20.684689</td>\n",
       "      <td>14.100301</td>\n",
       "      <td>3.755037</td>\n",
       "      <td>1.003576</td>\n",
       "    </tr>\n",
       "    <tr>\n",
       "      <th>7</th>\n",
       "      <td>Ketapril</td>\n",
       "      <td>25.662958</td>\n",
       "      <td>24.872251</td>\n",
       "      <td>23.229260</td>\n",
       "      <td>4.819674</td>\n",
       "      <td>1.453186</td>\n",
       "    </tr>\n",
       "    <tr>\n",
       "      <th>8</th>\n",
       "      <td>Propriva</td>\n",
       "      <td>21.258529</td>\n",
       "      <td>19.957562</td>\n",
       "      <td>24.967290</td>\n",
       "      <td>4.996728</td>\n",
       "      <td>1.888586</td>\n",
       "    </tr>\n",
       "    <tr>\n",
       "      <th>9</th>\n",
       "      <td>Naftisol</td>\n",
       "      <td>24.265506</td>\n",
       "      <td>24.563621</td>\n",
       "      <td>26.079104</td>\n",
       "      <td>5.106770</td>\n",
       "      <td>1.416363</td>\n",
       "    </tr>\n",
       "  </tbody>\n",
       "</table>\n",
       "</div>"
      ],
      "text/plain": [
       "  Drug Regimen  Mean Tumor Volume (mm3) Change  \\\n",
       "0     Ramicane                      -10.044405   \n",
       "1    Capomulin                       -8.763886   \n",
       "2    Infubinol                       20.755562   \n",
       "3      Placebo                       23.084082   \n",
       "4     Ceftamin                       19.132421   \n",
       "5     Stelasyn                       23.438310   \n",
       "6    Zoniferol                       20.960888   \n",
       "7     Ketapril                       25.662958   \n",
       "8     Propriva                       21.258529   \n",
       "9     Naftisol                       24.265506   \n",
       "\n",
       "   Median Tumor Volume (mm3) Change  Tumor Volume (mm3) Change Variance  \\\n",
       "0                        -10.151373                           30.101010   \n",
       "1                         -7.688154                           31.460537   \n",
       "2                         21.083066                           11.787426   \n",
       "3                         24.042841                           20.098783   \n",
       "4                         19.299830                           10.585242   \n",
       "5                         24.299149                           27.340818   \n",
       "6                         20.684689                           14.100301   \n",
       "7                         24.872251                           23.229260   \n",
       "8                         19.957562                           24.967290   \n",
       "9                         24.563621                           26.079104   \n",
       "\n",
       "   Tumor Volume (mm3) Change Standard Deviation  Tumor Volume (mm3) Change SEM  \n",
       "0                                      5.486439                       1.226805  \n",
       "1                                      5.608969                       1.223977  \n",
       "2                                      3.433282                       1.144427  \n",
       "3                                      4.483167                       1.351726  \n",
       "4                                      3.253497                       0.902358  \n",
       "5                                      5.228845                       1.576556  \n",
       "6                                      3.755037                       1.003576  \n",
       "7                                      4.819674                       1.453186  \n",
       "8                                      4.996728                       1.888586  \n",
       "9                                      5.106770                       1.416363  "
      ]
     },
     "execution_count": 107,
     "metadata": {},
     "output_type": "execute_result"
    }
   ],
   "source": [
    "tumor_vol_change_stats_list = []\n",
    "\n",
    "for drug in drug_regimens:\n",
    "    drug_data = last_timepoint[last_timepoint[\"Drug Regimen\"] == drug]\n",
    "    mean_tumor_vol_change = drug_data[\"Tumor Volume (mm3) Change\"].mean()\n",
    "    median_tumor_vol_change = drug_data[\"Tumor Volume (mm3) Change\"].median()\n",
    "    tumor_vol_change_variance = drug_data[\"Tumor Volume (mm3) Change\"].var()\n",
    "    tumor_vol_change_std_dev = drug_data[\"Tumor Volume (mm3) Change\"].std()\n",
    "    tumor_vol_change_sem = drug_data[\"Tumor Volume (mm3) Change\"].sem()\n",
    "\n",
    "    # Append the dictionary to the list\n",
    "    tumor_vol_change_stats_list.append({\n",
    "        \"Drug Regimen\": drug, \n",
    "        \"Mean Tumor Volume (mm3) Change\": mean_tumor_vol_change, \n",
    "        \"Median Tumor Volume (mm3) Change\": median_tumor_vol_change, \n",
    "        \"Tumor Volume (mm3) Change Variance\": tumor_vol_change_variance, \n",
    "        \"Tumor Volume (mm3) Change Standard Deviation\": tumor_vol_change_std_dev, \n",
    "        \"Tumor Volume (mm3) Change SEM\": tumor_vol_change_sem\n",
    "    })\n",
    "\n",
    "# Convert the list of dictionaries to a DataFrame\n",
    "drug_regimen_tumor_vol_change_stats = pd.DataFrame(tumor_vol_change_stats_list)\n",
    "\n",
    "# Display the DataFrame\n",
    "drug_regimen_tumor_vol_change_stats"
   ]
  },
  {
   "cell_type": "code",
   "execution_count": 108,
   "metadata": {},
   "outputs": [
    {
     "name": "stdout",
     "output_type": "stream",
     "text": [
      "Drug Regimen Tumor Volume Change Stats saved to cleaned_data\\drug_regimen_tumor_vol_change_stats.csv\n"
     ]
    }
   ],
   "source": [
    "# Save the drug_regimen_tumor_vol_change_stats DataFrame to a new CSV file\n",
    "drug_regimen_tumor_vol_change_stats_path = os.path.join(\"cleaned_data\", \"drug_regimen_tumor_vol_change_stats.csv\")\n",
    "drug_regimen_tumor_vol_change_stats.to_csv(drug_regimen_tumor_vol_change_stats_path, index=False)\n",
    "print(f\"Drug Regimen Tumor Volume Change Stats saved to {drug_regimen_tumor_vol_change_stats_path}\")"
   ]
  },
  {
   "cell_type": "code",
   "execution_count": 109,
   "metadata": {},
   "outputs": [],
   "source": [
    "# Create new DataFrame for the Tumor Volume (mm3) Change, Age, and Weight statistic summarys for each Drug Regimen\n",
    "age_stats_drug_index = drug_regimen_age_stats.copy()\n",
    "weight_stats_drug_index = drug_regimen_weight_stats.copy()\n",
    "tumor_vol_change_stats_drug_index = drug_regimen_tumor_vol_change_stats.copy()"
   ]
  },
  {
   "cell_type": "code",
   "execution_count": 110,
   "metadata": {},
   "outputs": [],
   "source": [
    "# Change the index of the new DataFrames to the Drug Regimen column\n",
    "age_stats_drug_index = age_stats_drug_index.set_index(\"Drug Regimen\")\n",
    "weight_stats_drug_index = weight_stats_drug_index.set_index(\"Drug Regimen\")\n",
    "tumor_vol_change_stats_drug_index = tumor_vol_change_stats_drug_index.set_index(\"Drug Regimen\")"
   ]
  },
  {
   "cell_type": "code",
   "execution_count": 136,
   "metadata": {},
   "outputs": [
    {
     "data": {
      "image/png": "[encoded data removed]",
      "text/plain": [
       "<Figure size 640x480 with 1 Axes>"
      ]
     },
     "metadata": {},
     "output_type": "display_data"
    }
   ],
   "source": [
    "# Create bar plot using the Pandas plot method to show the number of mice tested per Drug Regimen\n",
    "drug_regimen_counts = capomulin_study_data_clean[\"Drug Regimen\"].value_counts()\n",
    "drug_regimen_counts.plot(kind=\"bar\", color=\"blue\", alpha=0.7, edgecolor=\"black\", title=\"Number of Mice Tested per Drug Regimen\")\n",
    "plt.xlabel(\"Drug Regimen\")\n",
    "plt.xticks(rotation=45)\n",
    "plt.ylabel(\"Number of Mice\")\n",
    "plt.grid(axis=\"y\")\n",
    "plt.tight_layout()\n",
    "plt.savefig(\"data_visualizations/Number_of_Mice_Tested_per_Drug_Regimen_Pandas.png\")\n",
    "plt.show()\n",
    "plt.close()"
   ]
  },
  {
   "cell_type": "code",
   "execution_count": 137,
   "metadata": {},
   "outputs": [
    {
     "data": {
      "image/png": "[encoded data removed]",
      "text/plain": [
       "<Figure size 640x480 with 1 Axes>"
      ]
     },
     "metadata": {},
     "output_type": "display_data"
    }
   ],
   "source": [
    "# Create bar plot using the Matplotlib plot method to show the number of mice tested per Drug Regimen\n",
    "drug_regimen_counts_2 = drug_regimen_counts.sort_values(ascending=False)\n",
    "plt.bar(drug_regimen_counts_2.index, drug_regimen_counts_2.values, color=\"blue\", alpha=0.7, edgecolor=\"black\", width=0.5)\n",
    "plt.title(\"Number of Mice Tested per Drug Regimen\")\n",
    "plt.xlabel(\"Drug Regimen\")\n",
    "plt.xticks(rotation=45)\n",
    "plt.ylabel(\"Number of Mice\")\n",
    "plt.grid(axis=\"y\")\n",
    "plt.tight_layout()\n",
    "plt.savefig(\"data_visualizations/Number_of_Mice_Tested_per_Drug_Regimen_Matplotlib.png\")\n",
    "plt.show()\n",
    "plt.close()"
   ]
  },
  {
   "cell_type": "code",
   "execution_count": 114,
   "metadata": {},
   "outputs": [
    {
     "data": {
      "text/plain": [
       "array(['Male', 'Female'], dtype=object)"
      ]
     },
     "execution_count": 114,
     "metadata": {},
     "output_type": "execute_result"
    }
   ],
   "source": [
    "male_female = mouse_metadata[\"Sex\"].unique()\n",
    "male_female"
   ]
  },
  {
   "cell_type": "code",
   "execution_count": 115,
   "metadata": {},
   "outputs": [
    {
     "name": "stdout",
     "output_type": "stream",
     "text": [
      "Empty DataFrame\n",
      "Columns: [Sex, Number of Mice]\n",
      "Index: []\n"
     ]
    }
   ],
   "source": [
    "# Create a DataFrame with the unique Sex values in the mouse_metadata DataFrame\n",
    "mouse_sex = pd.DataFrame(columns = [\"Sex\", \"Number of Mice\"])\n",
    "print(mouse_sex)"
   ]
  },
  {
   "cell_type": "code",
   "execution_count": 116,
   "metadata": {},
   "outputs": [
    {
     "data": {
      "text/html": [
       "<div>\n",
       "<style scoped>\n",
       "    .dataframe tbody tr th:only-of-type {\n",
       "        vertical-align: middle;\n",
       "    }\n",
       "\n",
       "    .dataframe tbody tr th {\n",
       "        vertical-align: top;\n",
       "    }\n",
       "\n",
       "    .dataframe thead th {\n",
       "        text-align: right;\n",
       "    }\n",
       "</style>\n",
       "<table border=\"1\" class=\"dataframe\">\n",
       "  <thead>\n",
       "    <tr style=\"text-align: right;\">\n",
       "      <th></th>\n",
       "      <th>Sex</th>\n",
       "      <th>Number of Mice</th>\n",
       "    </tr>\n",
       "  </thead>\n",
       "  <tbody>\n",
       "    <tr>\n",
       "      <th>0</th>\n",
       "      <td>Male</td>\n",
       "      <td>125</td>\n",
       "    </tr>\n",
       "    <tr>\n",
       "      <th>1</th>\n",
       "      <td>Female</td>\n",
       "      <td>124</td>\n",
       "    </tr>\n",
       "  </tbody>\n",
       "</table>\n",
       "</div>"
      ],
      "text/plain": [
       "      Sex  Number of Mice\n",
       "0    Male             125\n",
       "1  Female             124"
      ]
     },
     "execution_count": 116,
     "metadata": {},
     "output_type": "execute_result"
    }
   ],
   "source": [
    "# Create a list of dictionaries to hold the number of mice for each sex and append the dictionary to the list\n",
    "sex_counts = []\n",
    "\n",
    "for Sex in male_female:\n",
    "    df_sex = mouse_metadata[mouse_metadata[\"Sex\"] == Sex]\n",
    "    count_sex_mice = df_sex[\"Sex\"].count()\n",
    "\n",
    "    # Append the dictionary to the list\n",
    "    sex_counts.append({\n",
    "        \"Sex\": Sex,\n",
    "        \"Number of Mice\": count_sex_mice\n",
    "    })\n",
    "\n",
    "# Convert the list of dictionaries to a DataFrame\n",
    "mouse_sex = pd.DataFrame(sex_counts)\n",
    "\n",
    "# Display the DataFrame\n",
    "mouse_sex"
   ]
  },
  {
   "cell_type": "code",
   "execution_count": 117,
   "metadata": {},
   "outputs": [
    {
     "data": {
      "text/html": [
       "<div>\n",
       "<style scoped>\n",
       "    .dataframe tbody tr th:only-of-type {\n",
       "        vertical-align: middle;\n",
       "    }\n",
       "\n",
       "    .dataframe tbody tr th {\n",
       "        vertical-align: top;\n",
       "    }\n",
       "\n",
       "    .dataframe thead th {\n",
       "        text-align: right;\n",
       "    }\n",
       "</style>\n",
       "<table border=\"1\" class=\"dataframe\">\n",
       "  <thead>\n",
       "    <tr style=\"text-align: right;\">\n",
       "      <th></th>\n",
       "      <th>Number of Mice</th>\n",
       "    </tr>\n",
       "    <tr>\n",
       "      <th>Sex</th>\n",
       "      <th></th>\n",
       "    </tr>\n",
       "  </thead>\n",
       "  <tbody>\n",
       "    <tr>\n",
       "      <th>Male</th>\n",
       "      <td>125</td>\n",
       "    </tr>\n",
       "    <tr>\n",
       "      <th>Female</th>\n",
       "      <td>124</td>\n",
       "    </tr>\n",
       "  </tbody>\n",
       "</table>\n",
       "</div>"
      ],
      "text/plain": [
       "        Number of Mice\n",
       "Sex                   \n",
       "Male               125\n",
       "Female             124"
      ]
     },
     "execution_count": 117,
     "metadata": {},
     "output_type": "execute_result"
    }
   ],
   "source": [
    "# Change the index of the new DataFrame to Sex\n",
    "mouse_sex_index = mouse_sex.set_index([\"Sex\"])\n",
    "mouse_sex_index"
   ]
  },
  {
   "cell_type": "code",
   "execution_count": 138,
   "metadata": {},
   "outputs": [
    {
     "data": {
      "image/png": "[encoded data removed]",
      "text/plain": [
       "<Figure size 640x480 with 1 Axes>"
      ]
     },
     "metadata": {},
     "output_type": "display_data"
    }
   ],
   "source": [
    "# Create a pie chart using the Pandas Plot method to show the distribution Female vs Male mice\n",
    "sex_plot_pandas = mouse_sex_index.plot.pie(y=\"Number of Mice\", colors=(\"Blue\",\"Pink\"), labels=mouse_sex_index.index, autopct=\"%1.1f%%\", legend=False)\n",
    "sex_plot_pandas.set_title(\"Mouse Sex Distribution\")\n",
    "sex_plot_pandas.set_ylabel(\"\")\n",
    "sex_plot_pandas.legend(title=\"Sex\", loc=\"upper right\")\n",
    "plt.savefig(\"data_visualizations/pie_chart_pandas.png\")\n",
    "plt.show()\n",
    "plt.close()"
   ]
  },
  {
   "cell_type": "code",
   "execution_count": 139,
   "metadata": {},
   "outputs": [
    {
     "data": {
      "image/png": "[encoded data removed]",
      "text/plain": [
       "<Figure size 640x480 with 1 Axes>"
      ]
     },
     "metadata": {},
     "output_type": "display_data"
    }
   ],
   "source": [
    "# Create a pie chart using the Matplotlib method to show the distribution Female vs Male mice\n",
    "plt.pie(mouse_sex_index[\"Number of Mice\"], labels=mouse_sex_index.index, colors=(\"Blue\",\"Pink\"), autopct=\"%1.1f%%\")\n",
    "plt.title(\"Mouse Sex Distribution\")\n",
    "plt.legend(loc=\"upper right\", title=\"Sex\")\n",
    "plt.savefig(\"data_visualizations/pie_chart_matplotlib.png\")\n",
    "plt.show()\n",
    "plt.close()\n"
   ]
  }
 ],
 "metadata": {
  "kernelspec": {
   "display_name": "myenv",
   "language": "python",
   "name": "python3"
  },
  "language_info": {
   "codemirror_mode": {
    "name": "ipython",
    "version": 3
   },
   "file_extension": ".py",
   "mimetype": "text/x-python",
   "name": "python",
   "nbconvert_exporter": "python",
   "pygments_lexer": "ipython3",
   "version": "3.9.19"
  }
 },
 "nbformat": 4,
 "nbformat_minor": 2
}
